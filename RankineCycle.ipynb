{
  "nbformat": 4,
  "nbformat_minor": 0,
  "metadata": {
    "colab": {
      "name": "RankineCycle.ipynb",
      "provenance": [],
      "collapsed_sections": [],
      "toc_visible": true,
      "authorship_tag": "ABX9TyP06rVHDLAglk5ixZuPTb1V",
      "include_colab_link": true
    },
    "kernelspec": {
      "name": "python3",
      "display_name": "Python 3"
    },
    "language_info": {
      "name": "python"
    }
  },
  "cells": [
    {
      "cell_type": "markdown",
      "metadata": {
        "id": "view-in-github",
        "colab_type": "text"
      },
      "source": [
        "<a href=\"https://colab.research.google.com/github/zeemarquez/Rankine/blob/main/RankineCycle.ipynb\" target=\"_parent\"><img src=\"https://colab.research.google.com/assets/colab-badge.svg\" alt=\"Open In Colab\"/></a>"
      ]
    },
    {
      "cell_type": "markdown",
      "metadata": {
        "id": "FRC2cn-tELXl"
      },
      "source": [
        "# Libraries"
      ]
    },
    {
      "cell_type": "code",
      "metadata": {
        "colab": {
          "base_uri": "https://localhost:8080/"
        },
        "id": "b8kaWNTFh4C6",
        "outputId": "3489d61f-ddf7-4f20-e07a-9a3c5abe84c1"
      },
      "source": [
        "!pip install coolprop"
      ],
      "execution_count": null,
      "outputs": [
        {
          "output_type": "stream",
          "name": "stdout",
          "text": [
            "Requirement already satisfied: coolprop in /usr/local/lib/python3.7/dist-packages (6.4.1)\n"
          ]
        }
      ]
    },
    {
      "cell_type": "code",
      "metadata": {
        "id": "otc01r4MhaLZ"
      },
      "source": [
        "import CoolProp.CoolProp as cp\n",
        "from CoolProp.Plots import PropertyPlot \n",
        "import pandas as pd\n",
        "import matplotlib.pyplot as plt\n",
        "import numpy as np\n",
        "import pandas as pd\n",
        "from matplotlib.transforms import Bbox\n",
        "import itertools as it\n",
        "import warnings\n",
        "import pylab\n",
        "from scipy.optimize import minimize\n",
        "from google.colab import files\n",
        "\n",
        "warnings.filterwarnings('ignore')"
      ],
      "execution_count": null,
      "outputs": []
    },
    {
      "cell_type": "code",
      "metadata": {
        "id": "MEZ-NOfLiGfF"
      },
      "source": [
        "class State:\n",
        "\n",
        "  kwargs_dict = {\n",
        "        '_T' : 'T',\n",
        "        '_P' : 'P',\n",
        "        '_x' : 'Q',\n",
        "        '_h' : 'H',\n",
        "        '_s' : 'S',\n",
        "        '_d' : 'D',\n",
        "        '_c' : 'CPMASS'}\n",
        "  \n",
        "  def __init__(self, fluid, **kwargs):\n",
        "    self.Fluid = fluid\n",
        "\n",
        "    input_kwargs = {}\n",
        "    for k in kwargs:\n",
        "      input_kwargs['_'+k]= kwargs.get(k) \n",
        "    self.__dict__.update(input_kwargs)\n",
        "\n",
        "  def __getProperty(self, key):\n",
        "\n",
        "    if ('_' + key) in self.__dict__.keys():\n",
        "      return self.__dict__.get('_' + key)\n",
        "    else:\n",
        "      output = State.kwargs_dict.get('_' + key)\n",
        "      inputs = State.kwargs_dict.copy()\n",
        "      inputs.pop('_' + key)\n",
        "      combinations = list(it.combinations(inputs.keys(),2))\n",
        "      result = None\n",
        "      for x,y in combinations:\n",
        "        try:\n",
        "          result = cp.PropsSI(output , inputs.get(x) , self.__dict__.get(x), inputs.get(y), self.__dict__.get(y), self.Fluid )\n",
        "        except:\n",
        "          pass\n",
        "        if result != None:\n",
        "          break\n",
        "          \n",
        "      return result    \n",
        "    \n",
        "  def __eq__(self, obj):\n",
        "    if self.Fluid == obj.Fluid:\n",
        "      if (self.T == obj.T) and (self.s == obj.s):\n",
        "        return True\n",
        "      else:\n",
        "        return False\n",
        "    else:\n",
        "      return False\n",
        "\n",
        "  def getTable(self, label=0):\n",
        "    df = pd.DataFrame(data={'T(ºC)':[self.T-273],'P(MPa)':[self.P/(1e6)],'h(kJ/kg)':[self.h/1000],'s(kJ/kgK)':[self.s/1000],'x(-)':[self.x]}, index=[label])\n",
        "    return df\n",
        "\n",
        "  @property\n",
        "  def T(self):\n",
        "    key = 'T'\n",
        "\n",
        "    if '_' + key in self.__dict__.keys():\n",
        "      return self.__dict__.get('_' + key)\n",
        "    else:\n",
        "      val = self.__getProperty(key)\n",
        "      if val == None:\n",
        "        raise Exception('Could not calculate ' + key)\n",
        "      else:\n",
        "        self.__dict__['_' + key] = val\n",
        "        return val\n",
        "  \n",
        "  @property\n",
        "  def P(self):\n",
        "    key = 'P'\n",
        "    \n",
        "    if '_' + key in self.__dict__.keys():\n",
        "      return self.__dict__.get('_' + key)\n",
        "    else:\n",
        "      val = self.__getProperty(key)\n",
        "      if val == None:\n",
        "        raise Exception('Could not calculate ' + key)\n",
        "      else:\n",
        "        self.__dict__['_' + key] = val\n",
        "        return val\n",
        "  @property\n",
        "  def h(self):\n",
        "    key = 'h'\n",
        "    \n",
        "    if '_' + key in self.__dict__.keys():\n",
        "      return self.__dict__.get('_' + key)\n",
        "    else:\n",
        "      val = self.__getProperty(key)\n",
        "      if val == None:\n",
        "        raise Exception('Could not calculate ' + key)\n",
        "      else:\n",
        "        self.__dict__['_' + key] = val\n",
        "        return val\n",
        "\n",
        "  @property\n",
        "  def s(self):\n",
        "    key = 's'\n",
        "    \n",
        "    if '_' + key in self.__dict__.keys():\n",
        "      return self.__dict__.get('_' + key)\n",
        "    else:\n",
        "      val = self.__getProperty(key)\n",
        "      if val == None:\n",
        "        raise Exception('Could not calculate ' + key)\n",
        "      else:\n",
        "        self.__dict__['_' + key] = val\n",
        "        return val\n",
        "\n",
        "  @property\n",
        "  def x(self):\n",
        "    key = 'x'\n",
        "    \n",
        "    if '_' + key in self.__dict__.keys():\n",
        "      return self.__dict__.get('_' + key)\n",
        "    else:\n",
        "      val = self.__getProperty(key)\n",
        "      if val == None:\n",
        "        raise Exception('Could not calculate ' + key)\n",
        "      else:\n",
        "        self.__dict__['_' + key] = val\n",
        "        return val\n",
        "\n",
        "  @property\n",
        "  def c(self):\n",
        "    key = 'c'\n",
        "    \n",
        "    if '_' + key in self.__dict__.keys():\n",
        "      return self.__dict__.get('_' + key)\n",
        "    else:\n",
        "      val = self.__getProperty(key)\n",
        "      if val == None:\n",
        "        raise Exception('Could not calculate ' + key)\n",
        "      else:\n",
        "        self.__dict__['_' + key] = val\n",
        "        return val\n",
        "\n",
        "  @property\n",
        "  def d(self):\n",
        "    key = 'd'\n",
        "    \n",
        "    if '_' + key in self.__dict__.keys():\n",
        "      return self.__dict__.get('_' + key)\n",
        "    else:\n",
        "      val = self.__getProperty(key)\n",
        "      if val == None:\n",
        "        raise Exception('Could not calculate ' + key)\n",
        "      else:\n",
        "        self.__dict__['_' + key] = val\n",
        "        return val\n",
        "    \n",
        "\n",
        "class StepType:\n",
        "  isobaric = 'isobaric'\n",
        "  isentropic = 'isentropic'\n",
        "\n",
        "\n",
        "class Cycle:\n",
        "\n",
        "  cycleDefinition = 500\n",
        "\n",
        "  def __init__(self, mass_flow, initial_state):\n",
        "    self.fluid = initial_state.Fluid\n",
        "    self.mass_flow = mass_flow\n",
        "    self.states = [initial_state]\n",
        "        \n",
        "    self.T_array = []\n",
        "    self.s_array = []\n",
        "    self.P_array = []\n",
        "    self.h_array = []\n",
        "\n",
        "    self.points_T = []\n",
        "    self.points_s = []\n",
        "    self.points_P = []\n",
        "    self.points_h = []\n",
        "\n",
        "    self.heat_in = 0\n",
        "    self.heat_out = 0\n",
        "  \n",
        "  @property\n",
        "  def work_net(self):\n",
        "    return (self.heat_in - self.heat_out)\n",
        "  \n",
        "  @property\n",
        "  def efficiency(self):\n",
        "    return (1- (self.heat_out/self.heat_in))\n",
        "\n",
        "  def isCycleValid(self):\n",
        "    if len(self.states) > 1:\n",
        "      return self.states[0] == self.states[-1]\n",
        "    else:\n",
        "      return False\n",
        "\n",
        "  def addStep(self, stepType, state):\n",
        "\n",
        "    sta = self.states[-1]\n",
        "    stb = state\n",
        "    self.__addStepPoints(sta,stb,stepType)\n",
        "    self.states.append(state)\n",
        "\n",
        "  def plotTs(self):\n",
        "\n",
        "    if self.isCycleValid():\n",
        "\n",
        "      s_array_kj = [x/1000 for x in self.s_array]\n",
        "      points_s_kj = [x/1000 for x in self.points_s]\n",
        "      T_array_C = [x-273 for x in self.T_array]\n",
        "      points_T_C = [x-273 for x in self.points_T]\n",
        "\n",
        "      ts_plot = PropertyPlot(self.fluid, 'Ts', unit_system='EUR')\n",
        "      ts_plot.calc_isolines(cp.iP, num=20)\n",
        "      ts_plot.calc_isolines(cp.iQ, num=10)\n",
        "      ts_plot.axis.plot(s_array_kj,T_array_C, color = 'red')\n",
        "      ts_plot.axis.plot(points_s_kj,points_T_C, 'bo')\n",
        "      ts_plot.title(r'$T,s$ graph for ' + self.fluid)\n",
        "      ts_plot.xlabel(r'$s$ [kJ/kg K]')\n",
        "      ts_plot.ylabel(r'$T$ [ºC]')\n",
        "\n",
        "      min_s = min(points_s_kj)\n",
        "      if min_s < 0:\n",
        "        min_s = 1.1 * min_s\n",
        "      else:\n",
        "        min_s = 0.8 * min_s\n",
        "\n",
        "      min_T = min(points_T_C)\n",
        "      if min_T < 0:\n",
        "        min_T = 1.1 * min_T\n",
        "      else:\n",
        "        min_T = 0.8 * min_T\n",
        "\n",
        "      plt.axis([min_s, 1.1 * max(s_array_kj), min_T, 1.1 * max(T_array_C)])\n",
        "\n",
        "      ts_plot.grid()\n",
        "      ts_plot.show()\n",
        "\n",
        "      self.Ts_plot = ts_plot\n",
        "\n",
        "    else:\n",
        "      raise Exception(\"Cycle is not valid. Check that the end step closes the cycle\")\n",
        "  \n",
        "  def plotPh(self):\n",
        "    if self.isCycleValid():\n",
        "\n",
        "      s_array_kj = [x/1000 for x in self.h_array]\n",
        "      points_s_kj = [x/1000 for x in self.points_h]\n",
        "      P_array_kPa = [x/1000 for x in self.P_array]\n",
        "      points_P_kPa = [x/1000 for x in self.points_P]\n",
        "\n",
        "      ts_plot = PropertyPlot(self.fluid, 'ph')\n",
        "      ts_plot.calc_isolines(cp.iQ, num=10)\n",
        "      ts_plot.calc_isolines(cp.iT, num=10)\n",
        "\n",
        "\n",
        "      ts_plot.axis.plot(s_array_kj,P_array_kPa, color = 'red')\n",
        "      ts_plot.axis.plot(points_s_kj,points_P_kPa, 'bo')\n",
        "\n",
        "      ts_plot.title(r'$P,h$ graph for ' + self.fluid)\n",
        "      ts_plot.xlabel(r'$h$ [kJ/kg]')\n",
        "      ts_plot.ylabel(r'$P$ [kPa]')\n",
        "\n",
        "      P_crit = cp.PropsSI(\"Pcrit\",\"\",0,\"\",0,self.fluid)\n",
        "\n",
        "      plt.axis([0, 1.1 * max(s_array_kj), 0, 1.5 * max(P_crit/1000,max(P_array_kPa))])\n",
        "\n",
        "      ts_plot.grid()\n",
        "      ts_plot.show()\n",
        "\n",
        "      self.Ph_plot = ts_plot\n",
        "\n",
        "    else:\n",
        "      raise Exception(\"Cycle is not valid. Check that the end step closes the cycle\")\n",
        "\n",
        "\n",
        "  def printTable(self):\n",
        "    print()\n",
        "    print('----------------------------------------')\n",
        "    print('Fluid:\\t\\t', self.fluid)\n",
        "    print('----------------------------------------')\n",
        "    print('Mass flow:\\t', round(self.mass_flow,2), '\\t\\t (kg/s)')\n",
        "    print('Heat in:\\t', round(self.heat_in/1000,2), '\\t (kW)')\n",
        "    print('Heat out:\\t', round(self.heat_out/1000,2), '\\t (kW)')\n",
        "    print('Work net:\\t', round(self.work_net/1000,2), '\\t (kW)')\n",
        "    print('Efficiency:\\t', round(self.efficiency*100,2), '\\t\\t (%)')\n",
        "    print('----------------------------------------')\n",
        "    print()\n",
        "\n",
        "\n",
        "  def __addStepPoints(self, state_a, state_b, stepType):\n",
        "\n",
        "    N = Cycle.cycleDefinition\n",
        "    s = state_a.s\n",
        "    Ta = state_a.T\n",
        "    ds = (state_b.s - state_a.s)/N\n",
        "    dT = (state_b.T - state_a.T)/N\n",
        "\n",
        "    step_T_array = []\n",
        "    step_s_array = []\n",
        "    step_P_array = []\n",
        "    setp_h_array = []\n",
        "\n",
        "    self.points_T.append(state_a.T)\n",
        "    self.points_T.append(state_b.T)\n",
        "    self.points_s.append(state_a.s)\n",
        "    self.points_s.append(state_b.s)\n",
        "    \n",
        "    self.points_P.append(state_a.P)\n",
        "    self.points_P.append(state_b.P)\n",
        "    self.points_h.append(state_a.h)\n",
        "    self.points_h.append(state_b.h)\n",
        "\n",
        "    for n in range(N):\n",
        "\n",
        "      s += ds\n",
        "\n",
        "      if stepType == StepType.isobaric:\n",
        "        T = State(self.fluid, P = state_a.P, s = s).T\n",
        "        P = state_a.P\n",
        "      elif stepType == StepType.isentropic:\n",
        "        T = Ta + n*dT\n",
        "        P = State(self.fluid, T = T, s = s).P\n",
        "      \n",
        "\n",
        "      try:\n",
        "        h = State(self.fluid, T = T, s = s).h\n",
        "      except:\n",
        "        h = State(self.fluid, T = T-1.0, s = s).h\n",
        "      \n",
        "      self.T_array.append(T)\n",
        "      self.s_array.append(s)\n",
        "      self.P_array.append(P)\n",
        "      self.h_array.append(h)\n",
        "      step_T_array.append(T)\n",
        "      step_s_array.append(s)\n",
        "      step_P_array.append(P)\n",
        "      setp_h_array.append(h)\n",
        "\n",
        "    integral = np.trapz(y=step_T_array,x=step_s_array)\n",
        "\n",
        "    if integral > 0:\n",
        "      self.heat_in += integral*self.mass_flow\n",
        "    else:\n",
        "      self.heat_out += abs(integral)*self.mass_flow\n",
        "\n",
        "\n",
        "class SimpleRankine:\n",
        "\n",
        "  def __init__(self,mass_flow,fluid, st_turb_in, st_cond_in, st_pump_in, st_boil_in):\n",
        "    self.mass_flow = mass_flow\n",
        "    self.fluid = fluid\n",
        "    self.st_turb_in = st_turb_in\n",
        "    self.st_cond_in = st_cond_in\n",
        "    self.st_pump_in = st_pump_in\n",
        "    self.st_boil_in = st_boil_in\n",
        "\n",
        "  @property\n",
        "  def work_turb(self):\n",
        "    return self.mass_flow*(self.st_turb_in.h- self.st_cond_in.h)\n",
        "  \n",
        "  @property\n",
        "  def work_pump(self):\n",
        "    return self.mass_flow*(self.st_boil_in.h- self.st_pump_in.h)\n",
        "\n",
        "  @property\n",
        "  def work_net(self):\n",
        "    return self.work_turb - self.work_pump\n",
        "\n",
        "  @property\n",
        "  def heat_in(self):\n",
        "    return self.mass_flow*(self.st_turb_in.h- self.st_boil_in.h)\n",
        "\n",
        "  @property\n",
        "  def heat_out(self):\n",
        "    return self.mass_flow*(self.st_cond_in.h- self.st_pump_in.h)\n",
        "\n",
        "  @property\n",
        "  def efficiency(self):\n",
        "    return (self.work_net/self.heat_in)\n",
        "\n",
        "  def plotGraphs(self):\n",
        "    self.cycle = Cycle(self.mass_flow,self.st_pump_in)\n",
        "    self.cycle.addStep(StepType.isentropic, self.st_boil_in)\n",
        "    self.cycle.addStep(StepType.isobaric, self.st_turb_in)\n",
        "    self.cycle.addStep(StepType.isentropic, self.st_cond_in)\n",
        "    self.cycle.addStep(StepType.isobaric, self.st_pump_in)\n",
        "\n",
        "    self.cycle.plotTs()\n",
        "    self.cycle.plotPh()\n",
        "\n",
        "    self.cycle.Ts_plot.savefig(\"Ts_plot.png\")\n",
        "    self.cycle.Ph_plot.savefig(\"Ph_plot.png\")\n",
        "\n",
        "\n",
        "  def printTable(self):\n",
        "    print()\n",
        "    print('----------------------------------------')\n",
        "    print('Fluid:\\t\\t', self.fluid)\n",
        "    print('----------------------------------------')\n",
        "    print('Mass flow:\\t', round(self.mass_flow,2), '\\t\\t (kg/s)')\n",
        "    print('Heat in:\\t', round(self.heat_in/1000,2), '\\t (kW)')\n",
        "    print('Heat out:\\t', round(self.heat_out/1000,2), '\\t (kW)')\n",
        "    print('Work turbine:\\t', round(self.work_turb/1000,2), '\\t (kW)')\n",
        "    print('Work pump:\\t', round(self.work_pump/1000,2), '\\t (kW)')\n",
        "    print('Work net:\\t', round(self.work_net/1000,2), '\\t (kW)')\n",
        "    print('Efficiency:\\t', round(self.efficiency*100,2), '\\t\\t (%)')\n",
        "    print('----------------------------------------')\n",
        "    print()\n",
        "\n",
        "  def getDf(self):\n",
        "\n",
        "    P_high = self.st_boil_in.P/1.0e6\n",
        "    P_low = self.st_cond_in.P/1.0e6\n",
        "\n",
        "    df = pd.DataFrame()\n",
        "\n",
        "\n",
        "    df = df.append(pd.DataFrame([['Fluid:', self.fluid, '-']]))\n",
        "    df = df.append(pd.DataFrame([['Mass flow', round(self.mass_flow,2), '(kg/s)']]))\n",
        "    df = df.append(pd.DataFrame([['Heat in', round(self.heat_in/1000,2), '(kW)']]))\n",
        "    df = df.append(pd.DataFrame([['Heat out', round(self.heat_out/1000,2), '(kW)']]))\n",
        "    df = df.append(pd.DataFrame([['Work turbine', round(self.work_turb/1000,2), '(kW)']]))\n",
        "    df = df.append(pd.DataFrame([['Work pump', round(self.work_pump/1000,2), '(kW)']]))\n",
        "    df = df.append(pd.DataFrame([['Work net', round(self.work_net/1000,2), '(kW)']]))\n",
        "    df = df.append(pd.DataFrame([['Efficiency', round(self.efficiency*100,2), '(%)']]))\n",
        "    df = df.append(pd.DataFrame([['P high', round(P_high, 3), 'MPa']]))\n",
        "    df = df.append(pd.DataFrame([['P low', round(P_low, 3), 'MPa']]))\n",
        "    return df\n",
        "\n",
        "\n",
        "def plotTs(fluid):\n",
        "  ts_plot = PropertyPlot(fluid, 'Ts', unit_system='EUR')\n",
        "  ts_plot.calc_isolines(cp.iP, num=10)\n",
        "  ts_plot.calc_isolines(cp.iQ, num=10)\n",
        "  ts_plot.title(r'$T,s$ graph for ' + fluid)\n",
        "  ts_plot.xlabel(r'$s$ [kJ/kg K]')\n",
        "  ts_plot.ylabel(r'$T$ [ºC]')\n",
        "  ts_plot.grid()\n",
        "\n",
        "  ts_plot.show()\n",
        "\n",
        "def plotPh(fluid):\n",
        "  ts_plot = PropertyPlot(fluid, 'Ph')\n",
        "  ts_plot.calc_isolines(cp.iQ, num=10)\n",
        "  ts_plot.calc_isolines(cp.iT, num=10)\n",
        "  ts_plot.title(r'$P,h$ graph for ' + fluid)\n",
        "  ts_plot.xlabel(r'$h$ [kJ/kg]')\n",
        "  ts_plot.ylabel(r'$P$ [kPa]')\n",
        "  ts_plot.grid()\n",
        "\n",
        "  ts_plot.show()\n",
        "\n",
        "\n",
        "def eng(value, units, digits = 3):\n",
        "  symbols = {-6:'micro', -3:'m', 0:'', 3:'k', 6:'M', 9:'G'}\n",
        "  pow = 0\n",
        "\n",
        "  if value > 1000.0:\n",
        "    while value > 1000.0:\n",
        "      pow += 3\n",
        "      value = value/1000.0\n",
        "      if pow >= 9:\n",
        "        break\n",
        "\n",
        "  elif value < 1:\n",
        "    while value < 1:\n",
        "      pow -= 3\n",
        "      value = value * 1000.0\n",
        "      if pow <= -6:\n",
        "        break\n",
        "\n",
        "  return str(round(value, digits)) + ' ' + symbols[pow] + units\n"
      ],
      "execution_count": null,
      "outputs": []
    },
    {
      "cell_type": "markdown",
      "metadata": {
        "id": "xJx9gL00EQNu"
      },
      "source": [
        "# Main Program"
      ]
    },
    {
      "cell_type": "code",
      "metadata": {
        "colab": {
          "base_uri": "https://localhost:8080/",
          "height": 238
        },
        "cellView": "form",
        "id": "l66-8eat89ph",
        "outputId": "52e6c386-cb8e-428f-9c7f-204a251068b9"
      },
      "source": [
        "#@title $CO_2$ Well parameters\n",
        "P_co2_injection_MPa =  45.0 #@param {type:\"number\"}\n",
        "T_co2_injection_C =  15.0 #@param {type:\"number\"}\n",
        "P_co2_inlet_MPa =  36.065991 #@param {type:\"number\"}\n",
        "T_co2_inlet_C =  89.0 #@param {type:\"number\"}\n",
        "m_co2_injection =   12.0#@param {type:\"number\"}\n",
        "\n",
        "m_co2 = m_co2_injection - 3.24\n",
        "\n",
        "df_inputs = pd.DataFrame([\n",
        "                          ['P CO2 Injection',P_co2_injection_MPa,'MPa'],\n",
        "                          ['P CO2 Inlet',P_co2_inlet_MPa,'MPa'],\n",
        "                          ['T CO2 Injection',T_co2_injection_C,'ºC'],\n",
        "                          ['T CO2 Inlet',T_co2_inlet_C,'ºC'],\n",
        "                          ['m CO2 injection',m_co2_injection,'kg/s'],\n",
        "                          ['m CO2 H.E',m_co2,'kg/s']\n",
        "                          ])\n",
        "\n",
        "df_inputs"
      ],
      "execution_count": null,
      "outputs": [
        {
          "output_type": "execute_result",
          "data": {
            "text/html": [
              "<div>\n",
              "<style scoped>\n",
              "    .dataframe tbody tr th:only-of-type {\n",
              "        vertical-align: middle;\n",
              "    }\n",
              "\n",
              "    .dataframe tbody tr th {\n",
              "        vertical-align: top;\n",
              "    }\n",
              "\n",
              "    .dataframe thead th {\n",
              "        text-align: right;\n",
              "    }\n",
              "</style>\n",
              "<table border=\"1\" class=\"dataframe\">\n",
              "  <thead>\n",
              "    <tr style=\"text-align: right;\">\n",
              "      <th></th>\n",
              "      <th>0</th>\n",
              "      <th>1</th>\n",
              "      <th>2</th>\n",
              "    </tr>\n",
              "  </thead>\n",
              "  <tbody>\n",
              "    <tr>\n",
              "      <th>0</th>\n",
              "      <td>P CO2 Injection</td>\n",
              "      <td>45.000000</td>\n",
              "      <td>MPa</td>\n",
              "    </tr>\n",
              "    <tr>\n",
              "      <th>1</th>\n",
              "      <td>P CO2 Inlet</td>\n",
              "      <td>36.065991</td>\n",
              "      <td>MPa</td>\n",
              "    </tr>\n",
              "    <tr>\n",
              "      <th>2</th>\n",
              "      <td>T CO2 Injection</td>\n",
              "      <td>15.000000</td>\n",
              "      <td>ºC</td>\n",
              "    </tr>\n",
              "    <tr>\n",
              "      <th>3</th>\n",
              "      <td>T CO2 Inlet</td>\n",
              "      <td>89.000000</td>\n",
              "      <td>ºC</td>\n",
              "    </tr>\n",
              "    <tr>\n",
              "      <th>4</th>\n",
              "      <td>m CO2 injection</td>\n",
              "      <td>12.000000</td>\n",
              "      <td>kg/s</td>\n",
              "    </tr>\n",
              "    <tr>\n",
              "      <th>5</th>\n",
              "      <td>m CO2 H.E</td>\n",
              "      <td>8.760000</td>\n",
              "      <td>kg/s</td>\n",
              "    </tr>\n",
              "  </tbody>\n",
              "</table>\n",
              "</div>"
            ],
            "text/plain": [
              "                 0          1     2\n",
              "0  P CO2 Injection  45.000000   MPa\n",
              "1      P CO2 Inlet  36.065991   MPa\n",
              "2  T CO2 Injection  15.000000    ºC\n",
              "3      T CO2 Inlet  89.000000    ºC\n",
              "4  m CO2 injection  12.000000  kg/s\n",
              "5        m CO2 H.E   8.760000  kg/s"
            ]
          },
          "metadata": {},
          "execution_count": 109
        }
      ]
    },
    {
      "cell_type": "markdown",
      "metadata": {
        "id": "jRTgC9K8eGta"
      },
      "source": [
        "## $CO_2$ Properties"
      ]
    },
    {
      "cell_type": "code",
      "metadata": {
        "colab": {
          "base_uri": "https://localhost:8080/",
          "height": 577
        },
        "id": "dPZd_5I4KN2e",
        "cellView": "form",
        "outputId": "632ab97b-3810-4ed9-92c2-d83fa2d3bc07"
      },
      "source": [
        "#@title Plot Cycle Fluid Diagrams\n",
        "fluid = \"CO2\" #@param [\"water\", \"R134a\", \"CO2\", \"ammonia\"]\n",
        "plotTs(fluid)\n",
        "plotPh(fluid)"
      ],
      "execution_count": null,
      "outputs": [
        {
          "output_type": "display_data",
          "data": {
            "image/png": "[encoded data removed]",
            "text/plain": [
              "<Figure size 432x288 with 1 Axes>"
            ]
          },
          "metadata": {
            "needs_background": "light"
          }
        },
        {
          "output_type": "display_data",
          "data": {
            "image/png": "[encoded data removed]",
            "text/plain": [
              "<Figure size 432x288 with 1 Axes>"
            ]
          },
          "metadata": {
            "needs_background": "light"
          }
        }
      ]
    },
    {
      "cell_type": "markdown",
      "metadata": {
        "id": "SWBeHmaXsqsE"
      },
      "source": [
        "## Optimize Simple Rankine"
      ]
    },
    {
      "cell_type": "code",
      "metadata": {
        "id": "BqnAN5y4svRu",
        "cellView": "form"
      },
      "source": [
        "#@title Optimization parameters\n",
        "fluid = \"R134a\" #@param [\"water\", \"R134a\", \"CO2\", \"ammonia\"]\n",
        "dP_min_kPa =  5#@param {type:\"number\"}\n",
        "dP_max_MPa =  30#@param {type:\"number\"}\n",
        "maximize = \"work_net\" #@param [\"work_net\", \"efficiency\", \"heat_in\"]"
      ],
      "execution_count": null,
      "outputs": []
    },
    {
      "cell_type": "code",
      "metadata": {
        "id": "clu0Q3laJ5c3",
        "colab": {
          "base_uri": "https://localhost:8080/"
        },
        "outputId": "8769eeca-2b0f-4d56-ecdb-63f637a7c070"
      },
      "source": [
        "inputs0 = [2e6,500e3,6.5] #[P_high, P_low, mass_flow]\n",
        "\n",
        "dP_min = dP_min_kPa * 1e3\n",
        "dP_max = dP_max_MPa * 1e6\n",
        "\n",
        "def get_rankine(inputs):\n",
        "\n",
        "  P_high  = inputs[0]\n",
        "  P_low   = inputs[1]\n",
        "  m_cycle = inputs[2]\n",
        "\n",
        "  m_geo = m_co2  #kg/s\n",
        "  #boiler_efficiency = 0.9\n",
        "  P_co2 = P_co2_inlet_MPa * 1e6\n",
        "  T_hot_geo = T_co2_inlet_C + 273\n",
        "\n",
        "  st_cond = State(fluid, x=0, P=P_low)\n",
        "  T_condenser = st_cond.T\n",
        "\n",
        "  st_boil_in = State(fluid,s= st_cond.s,P=P_high)\n",
        "  T_boil_in = st_boil_in.T\n",
        "\n",
        "\n",
        "  C_co2, C_fluid = State('CO2', P = P_co2, T=T_hot_geo).c * m_geo , State(fluid, P = P_high, T=T_boil_in).c * m_cycle\n",
        "  C_min = min(C_co2, C_fluid)\n",
        "\n",
        "  Q_max = C_min*(T_hot_geo-T_boil_in)\n",
        "\n",
        "  co2_in = State('CO2', P = P_co2, T=T_hot_geo)\n",
        "  co2_out = State('CO2', P = P_co2, T=co2_in.T - (Q_max/C_co2))\n",
        "\n",
        "  st1 = st_cond\n",
        "  st2 = st_boil_in\n",
        "  st3 = State(fluid, P=P_high, T = st2.T + (Q_max/C_fluid))\n",
        "  #st3 = State(fluid, P=P_high, h = st2.h + (Q_max/m_cycle))\n",
        "  st4 = State(fluid, P=P_low, s=st3.s)\n",
        "\n",
        "  rankine = SimpleRankine(m_cycle,fluid,st3,st4,st1,st2)\n",
        "\n",
        "  return rankine\n",
        "\n",
        "rk0 = get_rankine(inputs0)\n",
        "\n",
        "def objective(inputs):\n",
        "  \n",
        "  failed = True\n",
        "  try:\n",
        "    rk = get_rankine(inputs)\n",
        "    failed = False\n",
        "  except:\n",
        "    pass\n",
        "\n",
        "  if maximize == 'work_net':\n",
        "    if failed:\n",
        "      return 1e6/(rk0.work_net)\n",
        "    else:\n",
        "      return 1e6/(rk.work_net)\n",
        "  elif maximize == 'efficiency':\n",
        "    if failed:\n",
        "      return 1/(rk0.efficiency)\n",
        "    else:\n",
        "      return 1/(rk.efficiency)\n",
        "\n",
        "\n",
        "#[P_high, P_low, mass_flow]\n",
        "\n",
        "def constraint1(inputs):\n",
        "  return -inputs[0] + inputs[1] + dP_max\n",
        "\n",
        "def constraint2(inputs):\n",
        "  return -dP_min - inputs[1] + inputs[0]\n",
        "\n",
        "bnds = [(100e3,20e6),(100e3,20e6),(0.5,30.0)]\n",
        "\n",
        "con1 = {'type':'ineq', 'fun': constraint1}\n",
        "con2 = {'type':'ineq', 'fun': constraint2}\n",
        "\n",
        "cons = [con1,con2]\n",
        "\n",
        "solution = minimize(objective, inputs0, method='SLSQP', bounds=bnds, constraints=cons)\n",
        "\n",
        "print('Maximum net Work:',eng(get_rankine(solution.x).work_net,'W'))\n",
        "print('Inputs:',solution.x)\n",
        "print('\\n------------------------')\n",
        "print('P high:\\t', eng(solution.x[0],'Pa'))\n",
        "print('P low:\\t', eng(solution.x[1],'Pa'))\n",
        "print('m flow:\\t', eng(solution.x[2],'kg/s'))\n",
        "print('------------------------')"
      ],
      "execution_count": null,
      "outputs": [
        {
          "output_type": "stream",
          "name": "stdout",
          "text": [
            "Maximum net Work: 448.713 kW\n",
            "Inputs: [2.00000000e+06 5.00000000e+05 1.72664382e+01]\n",
            "\n",
            "------------------------\n",
            "P high:\t 2.0 MPa\n",
            "P low:\t 500.0 kPa\n",
            "m flow:\t 17.266 kg/s\n",
            "------------------------\n"
          ]
        }
      ]
    },
    {
      "cell_type": "markdown",
      "metadata": {
        "id": "zzGAGVS8d9_z"
      },
      "source": [
        "### Results"
      ]
    },
    {
      "cell_type": "code",
      "metadata": {
        "colab": {
          "base_uri": "https://localhost:8080/",
          "height": 803
        },
        "id": "9ZBV6kFdRTzk",
        "outputId": "bd9af36c-ecd5-4f3e-c4eb-2113c08419da"
      },
      "source": [
        "rk = get_rankine(solution.x)\n",
        "rk.printTable()\n",
        "rk.plotGraphs()"
      ],
      "execution_count": null,
      "outputs": [
        {
          "output_type": "stream",
          "name": "stdout",
          "text": [
            "\n",
            "----------------------------------------\n",
            "Fluid:\t\t R134a\n",
            "----------------------------------------\n",
            "Mass flow:\t 17.27 \t\t (kg/s)\n",
            "Heat in:\t 3549.5 \t (kW)\n",
            "Heat out:\t 3100.79 \t (kW)\n",
            "Work turbine:\t 469.55 \t (kW)\n",
            "Work pump:\t 20.83 \t (kW)\n",
            "Work net:\t 448.71 \t (kW)\n",
            "Efficiency:\t 12.64 \t\t (%)\n",
            "----------------------------------------\n",
            "\n"
          ]
        },
        {
          "output_type": "display_data",
          "data": {
            "image/png": "[encoded data removed]",
            "text/plain": [
              "<Figure size 432x288 with 1 Axes>"
            ]
          },
          "metadata": {
            "needs_background": "light"
          }
        },
        {
          "output_type": "display_data",
          "data": {
            "image/png": "[encoded data removed]",
            "text/plain": [
              "<Figure size 432x288 with 1 Axes>"
            ]
          },
          "metadata": {
            "needs_background": "light"
          }
        }
      ]
    },
    {
      "cell_type": "code",
      "metadata": {
        "colab": {
          "base_uri": "https://localhost:8080/"
        },
        "id": "1ugB4s3z91kG",
        "outputId": "de089bc0-4d18-4823-c1b8-8b271a52176a"
      },
      "source": [
        "dh_co2 = rk.heat_in/rk.mass_flow\n",
        "st_co2_in = State('CO2', T=T_co2_inlet_C + 273, P=P_co2_inlet_MPa*1e6)\n",
        "st_co2_out = State('CO2', h = st_co2_in.h - dh_co2 , P=P_co2_inlet_MPa*1e6)\n",
        "st_co2_injection = State('CO2', T = T_co2_injection_C + 273, P=P_co2_injection_MPa*1e6)\n",
        "\n",
        "print('T CO2 H.E in:', round(st_co2_in.T-273,2), 'ºC')\n",
        "print('T CO2 H.E out:', round(st_co2_out.T-273,2), 'ºC')\n",
        "print('Cp average', round(st_co2_out.c/1000,2), 'kJ/kg')"
      ],
      "execution_count": null,
      "outputs": [
        {
          "output_type": "stream",
          "name": "stdout",
          "text": [
            "T CO2 H.E in: 89.0 ºC\n",
            "T CO2 H.E out: -21.52 ºC\n",
            "Cp average 1.8 kJ/kg\n"
          ]
        }
      ]
    },
    {
      "cell_type": "code",
      "metadata": {
        "colab": {
          "base_uri": "https://localhost:8080/",
          "height": 363
        },
        "id": "rGGVh9wfrNvs",
        "outputId": "88ae8b1b-9dac-45e0-e05e-2e3c86881313"
      },
      "source": [
        "rk.getDf().to_csv('rankine_results.csv',index=False)\n",
        "df_inputs.to_csv('rankine_inputs.csv',index=False)\n",
        "\n",
        "rk.getDf()"
      ],
      "execution_count": null,
      "outputs": [
        {
          "output_type": "execute_result",
          "data": {
            "text/html": [
              "<div>\n",
              "<style scoped>\n",
              "    .dataframe tbody tr th:only-of-type {\n",
              "        vertical-align: middle;\n",
              "    }\n",
              "\n",
              "    .dataframe tbody tr th {\n",
              "        vertical-align: top;\n",
              "    }\n",
              "\n",
              "    .dataframe thead th {\n",
              "        text-align: right;\n",
              "    }\n",
              "</style>\n",
              "<table border=\"1\" class=\"dataframe\">\n",
              "  <thead>\n",
              "    <tr style=\"text-align: right;\">\n",
              "      <th></th>\n",
              "      <th>0</th>\n",
              "      <th>1</th>\n",
              "      <th>2</th>\n",
              "    </tr>\n",
              "  </thead>\n",
              "  <tbody>\n",
              "    <tr>\n",
              "      <th>0</th>\n",
              "      <td>Fluid:</td>\n",
              "      <td>R134a</td>\n",
              "      <td>-</td>\n",
              "    </tr>\n",
              "    <tr>\n",
              "      <th>0</th>\n",
              "      <td>Mass flow</td>\n",
              "      <td>17.27</td>\n",
              "      <td>(kg/s)</td>\n",
              "    </tr>\n",
              "    <tr>\n",
              "      <th>0</th>\n",
              "      <td>Heat in</td>\n",
              "      <td>3549.5</td>\n",
              "      <td>(kW)</td>\n",
              "    </tr>\n",
              "    <tr>\n",
              "      <th>0</th>\n",
              "      <td>Heat out</td>\n",
              "      <td>3100.79</td>\n",
              "      <td>(kW)</td>\n",
              "    </tr>\n",
              "    <tr>\n",
              "      <th>0</th>\n",
              "      <td>Work turbine</td>\n",
              "      <td>469.55</td>\n",
              "      <td>(kW)</td>\n",
              "    </tr>\n",
              "    <tr>\n",
              "      <th>0</th>\n",
              "      <td>Work pump</td>\n",
              "      <td>20.83</td>\n",
              "      <td>(kW)</td>\n",
              "    </tr>\n",
              "    <tr>\n",
              "      <th>0</th>\n",
              "      <td>Work net</td>\n",
              "      <td>448.71</td>\n",
              "      <td>(kW)</td>\n",
              "    </tr>\n",
              "    <tr>\n",
              "      <th>0</th>\n",
              "      <td>Efficiency</td>\n",
              "      <td>12.64</td>\n",
              "      <td>(%)</td>\n",
              "    </tr>\n",
              "    <tr>\n",
              "      <th>0</th>\n",
              "      <td>P high</td>\n",
              "      <td>2</td>\n",
              "      <td>MPa</td>\n",
              "    </tr>\n",
              "    <tr>\n",
              "      <th>0</th>\n",
              "      <td>P low</td>\n",
              "      <td>0.5</td>\n",
              "      <td>MPa</td>\n",
              "    </tr>\n",
              "  </tbody>\n",
              "</table>\n",
              "</div>"
            ],
            "text/plain": [
              "              0        1       2\n",
              "0        Fluid:    R134a       -\n",
              "0     Mass flow    17.27  (kg/s)\n",
              "0       Heat in   3549.5    (kW)\n",
              "0      Heat out  3100.79    (kW)\n",
              "0  Work turbine   469.55    (kW)\n",
              "0     Work pump    20.83    (kW)\n",
              "0      Work net   448.71    (kW)\n",
              "0    Efficiency    12.64     (%)\n",
              "0        P high        2     MPa\n",
              "0         P low      0.5     MPa"
            ]
          },
          "metadata": {},
          "execution_count": 115
        }
      ]
    },
    {
      "cell_type": "code",
      "metadata": {
        "colab": {
          "base_uri": "https://localhost:8080/"
        },
        "id": "k-iUjKKZGkHx",
        "outputId": "d0d89a5e-deda-4945-9c70-5909ee431d76"
      },
      "source": [
        "st1 = State('CO2', T=23+273, P=23.35e6)\n",
        "st2 = State('CO2', s = st1.s, P=25.0e6)\n",
        "\n",
        "((10*((st2.h-st1.h)/0.75))/(rk.work_net*0.75*0.8))*100\n"
      ],
      "execution_count": null,
      "outputs": [
        {
          "output_type": "execute_result",
          "data": {
            "text/plain": [
              "8.645352828171218"
            ]
          },
          "metadata": {},
          "execution_count": 116
        }
      ]
    },
    {
      "cell_type": "code",
      "metadata": {
        "colab": {
          "base_uri": "https://localhost:8080/"
        },
        "id": "jdLWEo19ufZU",
        "outputId": "0e0158b5-f490-49da-b0e3-e264fa45c54a"
      },
      "source": [
        "P_high  = solution.x[0]\n",
        "P_low   = solution.x[1]\n",
        "m_cycle = solution.x[2]\n",
        "\n",
        "m_geo = m_co2  #kg/s\n",
        "#boiler_efficiency = 0.9\n",
        "P_co2 = P_co2_inlet_MPa * 1e6\n",
        "T_hot_geo = T_co2_inlet_C + 273\n",
        "\n",
        "st_cond = State(fluid, x=0, P=P_low)\n",
        "T_condenser = st_cond.T\n",
        "\n",
        "st_boil_in = State(fluid,s= st_cond.s,P=P_high)\n",
        "T_boil_in = st_boil_in.T\n",
        "\n",
        "co2_in = State('CO2', P = P_co2, T=T_hot_geo)\n",
        "\n",
        "C_co2, C_fluid = co2_in.c * m_geo , State(fluid, P = P_high, T=T_boil_in).c * m_cycle\n",
        "C_min = min(C_co2, C_fluid)\n",
        "\n",
        "Q_max = C_min*(T_hot_geo-T_boil_in)\n",
        "print('C_co2:', C_co2)\n",
        "print('C_fluid:', C_fluid)\n",
        "print('C_min:', C_min)\n",
        "print('Q_max:', Q_max/1000, 'kW')\n",
        "\n",
        "\n",
        "co2_out = State('CO2', P = P_co2, T=co2_in.T - (Q_max/C_co2))\n",
        "\n",
        "st1 = st_cond\n",
        "st2 = st_boil_in\n",
        "st3 = State(fluid, P=P_high, h = st2.h + (Q_max/m_cycle))\n",
        "#st3 = State(fluid, P=P_high, T = st2.T + (Q_max/C_fluid))\n",
        "st4 = State(fluid, P=P_low, s=st3.s)\n",
        "\n",
        "rankine = SimpleRankine(m_cycle,fluid,st3,st4,st1,st2)\n",
        "\n",
        "print(rankine.mass_flow * (st3.h - st2.h))\n",
        "\n",
        "print()\n",
        "\n",
        "print('T_co2_in:', co2_in.T)\n",
        "print('T_co2_out:', co2_out.T)\n",
        "print('T_R134a_in:', st_boil_in.T)\n",
        "print('T_R134a_out:', st3.T)\n",
        "\n",
        "rankine.work_net/1000"
      ],
      "execution_count": null,
      "outputs": [
        {
          "output_type": "stream",
          "name": "stdout",
          "text": [
            "C_co2: 16787.394233342628\n",
            "C_fluid: 23818.954761154648\n",
            "C_min: 16787.394233342628\n",
            "Q_max: 1215.1696443981548 kW\n",
            "1215169.6443981552\n",
            "\n",
            "T_co2_in: 362.0\n",
            "T_co2_out: 289.6141593205323\n",
            "T_R134a_in: 289.6141593205323\n",
            "T_R134a_out: 336.6476737902722\n"
          ]
        },
        {
          "output_type": "execute_result",
          "data": {
            "text/plain": [
              "94.6868184736876"
            ]
          },
          "metadata": {},
          "execution_count": 117
        }
      ]
    },
    {
      "cell_type": "code",
      "metadata": {
        "colab": {
          "base_uri": "https://localhost:8080/"
        },
        "id": "9j4UvT3lu4nT",
        "outputId": "5d29551b-b6c9-463a-dede-bd0931bca2aa"
      },
      "source": [
        "print('T CO2 H.E in:',round(co2_in.T - 273,2))\n",
        "print('T CO2 H.E out:',round(co2_out.T - 273,2))\n",
        "print('P CO2 H.E out:', eng(co2_out.P,'Pa'))\n",
        "print('Cp CO2 H.E out:', eng(co2_out.c,'J/kg'))\n",
        "print('rho CO2 H.E out:', round(co2_out.d,3),'kg/m3')\n",
        "\n",
        "\n",
        "((co2_in.h - co2_out.h)*m_co2)/1000"
      ],
      "execution_count": null,
      "outputs": [
        {
          "output_type": "stream",
          "name": "stdout",
          "text": [
            "T CO2 H.E in: 89.0\n",
            "T CO2 H.E out: 16.61\n",
            "P CO2 H.E out: 36.066 MPa\n",
            "Cp CO2 H.E out: 1.836 kJ/kg\n",
            "rho CO2 H.E out: 1018.72 kg/m3\n"
          ]
        },
        {
          "output_type": "execute_result",
          "data": {
            "text/plain": [
              "1193.9638236851993"
            ]
          },
          "metadata": {},
          "execution_count": 118
        }
      ]
    }
  ]
}